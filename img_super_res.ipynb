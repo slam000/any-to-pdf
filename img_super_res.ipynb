{
  "nbformat": 4,
  "nbformat_minor": 0,
  "metadata": {
    "colab": {
      "provenance": [],
      "gpuType": "T4",
      "authorship_tag": "ABX9TyNvdwFhXflk/FyD03InWFXp",
      "include_colab_link": true
    },
    "kernelspec": {
      "name": "python3",
      "display_name": "Python 3"
    },
    "language_info": {
      "name": "python"
    },
    "accelerator": "GPU"
  },
  "cells": [
    {
      "cell_type": "markdown",
      "metadata": {
        "id": "view-in-github",
        "colab_type": "text"
      },
      "source": [
        "<a href=\"https://colab.research.google.com/github/slam000/any-to-pdf/blob/master/img_super_res.ipynb\" target=\"_parent\"><img src=\"https://colab.research.google.com/assets/colab-badge.svg\" alt=\"Open In Colab\"/></a>"
      ]
    },
    {
      "cell_type": "code",
      "execution_count": 1,
      "metadata": {
        "id": "nKKH4qKkqNoV"
      },
      "outputs": [],
      "source": [
        "import cv2\n",
        "from cv2 import dnn_superres\n",
        "from google.colab.patches import cv2_imshow"
      ]
    },
    {
      "cell_type": "code",
      "source": [
        "img_path = \"/content/assets/img/imagen2.jpg\"\n",
        "\n",
        "img = cv2.imread(img_path)\n"
      ],
      "metadata": {
        "id": "F44APIUSrxPu"
      },
      "execution_count": 2,
      "outputs": []
    },
    {
      "cell_type": "code",
      "source": [
        "# Redimensionar la imagen\n",
        "img = cv2.resize(img, (512, 288), interpolation=cv2.INTER_CUBIC)\n",
        "cv2.imwrite(\"/content/assets/img/imagen2_redimensionada.jpg\", img)\n"
      ],
      "metadata": {
        "colab": {
          "base_uri": "https://localhost:8080/"
        },
        "id": "bQ63EuIosvUt",
        "outputId": "ed384d43-3cb1-4712-860e-c02e6f724908"
      },
      "execution_count": 6,
      "outputs": [
        {
          "output_type": "execute_result",
          "data": {
            "text/plain": [
              "True"
            ]
          },
          "metadata": {},
          "execution_count": 6
        }
      ]
    },
    {
      "cell_type": "code",
      "source": [
        "# Inicializar el objeto sr\n",
        "sr = dnn_superres.DnnSuperResImpl_create()\n",
        "# Cargar el modelo EDSR\n",
        "path_modelo = \"/content/modelos/EDSR_x4.pb\"\n",
        "sr.readModel(path_modelo)\n",
        "# Establecer el modelo EDSR\n",
        "sr.setModel(\"edsr\", 4)"
      ],
      "metadata": {
        "id": "D_SyVvFauQp6"
      },
      "execution_count": 7,
      "outputs": []
    },
    {
      "cell_type": "code",
      "source": [
        "# Procesar la imagen\n",
        "img_resized = cv2.imread(\"/content/assets/img/imagen2_redimensionada.jpg\")\n",
        "img_super = sr.upsample(img_resized)\n",
        "cv2.imwrite(\"/content/assets/img/image2_super.png\", img_super)\n"
      ],
      "metadata": {
        "colab": {
          "base_uri": "https://localhost:8080/"
        },
        "id": "1fP5mRgFuwTE",
        "outputId": "4cf82370-4143-4f1d-fe5e-9a83fe4a5230"
      },
      "execution_count": 8,
      "outputs": [
        {
          "output_type": "execute_result",
          "data": {
            "text/plain": [
              "True"
            ]
          },
          "metadata": {},
          "execution_count": 8
        }
      ]
    }
  ]
}